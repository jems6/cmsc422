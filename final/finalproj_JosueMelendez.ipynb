{
 "cells": [
  {
   "cell_type": "code",
   "execution_count": null,
   "metadata": {},
   "outputs": [
    {
     "name": "stdout",
     "output_type": "stream",
     "text": [
      "Defaulting to user installation because normal site-packages is not writeable\n",
      "Requirement already satisfied: opencv-python in /home/jems/.local/lib/python3.10/site-packages (4.10.0.84)\n",
      "Requirement already satisfied: numpy>=1.17.3 in /home/jems/.local/lib/python3.10/site-packages (from opencv-python) (1.26.0)\n"
     ]
    }
   ],
   "source": [
    "# !pip install opencv-python"
   ]
  },
  {
   "cell_type": "code",
   "execution_count": 38,
   "metadata": {},
   "outputs": [],
   "source": [
    "import os\n",
    "from PIL import Image\n",
    "import numpy as np\n",
    "import cv2"
   ]
  },
  {
   "cell_type": "code",
   "execution_count": 58,
   "metadata": {},
   "outputs": [],
   "source": [
    "data_dir = '/home/jems/cmsc422/final/samples'  # Replace with the actual path to your data\n",
    "image_size = (80, 60)\n",
    "\n",
    "X = []  # Array to store images\n",
    "y = []  # Array to store sample labels\n",
    "\n",
    "for sample_id in range(1, 63):  # Replace 100 with the total number of samples\n",
    "    sample_dir = os.path.join(data_dir, f'Sample{sample_id:03d}')\n",
    "    \n",
    "    for image_file in os.listdir(sample_dir):\n",
    "        if image_file.endswith('.jpg') or image_file.endswith('.png'):  # Adjust as needed\n",
    "            image_path = os.path.join(sample_dir, image_file)\n",
    "            # Load the image\n",
    "            image = Image.open(image_path)\n",
    "            # Resize the image\n",
    "            image = image.resize(image_size)\n",
    "            # Convert the image to a numpy array and convert to grayscale\n",
    "            image = cv2.cvtColor(np.array(image), cv2.COLOR_RGB2GRAY)  # Using OpenCV for grayscale conversion\n",
    "            # Append the grayscale image to X\n",
    "            X.append(image)\n",
    "            # Append the label to y (could be sample_id or another way to represent the label)\n",
    "            y.append(sample_id)\n",
    "\n",
    "# Convert lists to numpy arrays\n",
    "X = np.array(X)\n",
    "y = np.array(y)\n",
    "\n",
    "# Reshape X to match the input layer dimensions for the ANN\n",
    "X = X.reshape(-1, 4800)  # 80 * 60 = 4800"
   ]
  },
  {
   "cell_type": "code",
   "execution_count": 59,
   "metadata": {},
   "outputs": [
    {
     "name": "stdout",
     "output_type": "stream",
     "text": [
      "(3410, 4800)\n"
     ]
    }
   ],
   "source": [
    "print(X.shape)"
   ]
  },
  {
   "cell_type": "code",
   "execution_count": 60,
   "metadata": {},
   "outputs": [],
   "source": [
    "class ANN():\n",
    "\n",
    "    def __init__(self):\n",
    "        self.inputSize = 4800\n",
    "        self.outputSize = 62\n",
    "        self.hiddenSize = 100\n",
    "        self.learning_rate = None\n",
    "\n",
    "        self.hidden = np.random.randn(self.inputSize, self.hiddenSize) * 0.01\n",
    "        self.output = np.random.randn(self.hiddenSize, self.outputSize) * 0.01\n",
    "        self.hidden_biases = np.ones((1, self.hiddenSize))\n",
    "        self.output_biases = np.ones((1, self.outputSize))\n",
    "    \n",
    "    def sigmoid(self, s):\n",
    "        return 1/(1 + np.exp(-s))\n",
    "\n",
    "    def forward(self, X):\n",
    "        self.z1 = np.dot(X, self.hidden) + self.hidden_biases\n",
    "        self.A1 = self.sigmoid(self.z1)\n",
    "        self.z2 = np.dot(self.A1, self.output) + self.output_biases\n",
    "        self.A2 = self.sigmoid(self.z2)\n",
    "        return self.A2    \n",
    "    \n",
    "    def backpropogation(self, X, y, learning_rate):\n",
    "        def sig_derivative(x):\n",
    "            return x * (1 - x)\n",
    "        \n",
    "        \n",
    "        self.learning_rate = learning_rate\n",
    "        m = X.shape[0]\n",
    "        \n",
    "        dA2 = (self.A2 - y) * (2/m)\n",
    "\n",
    "        # Gradients for the output layer\n",
    "        dZ2 = dA2 * sig_derivative(self.A2)\n",
    "        dW2 = np.dot(self.A1.T, dZ2)\n",
    "        db2 = np.sum(dZ2, axis=0, keepdims=True)\n",
    "\n",
    "        # Gradients for the hidden layer\n",
    "        dA1 = np.dot(dZ2, self.output.T)\n",
    "        dZ1 = dA1 * sig_derivative(self.A1)\n",
    "        dW1 = np.dot(X.T, dZ1)\n",
    "        db1 = np.sum(dZ1, axis=0, keepdims=True)\n",
    "\n",
    "        # Update weights and biases\n",
    "        self.hidden -= self.learning_rate * dW1\n",
    "        self.hidden_biases -= self.learning_rate * db1\n",
    "        self.output -= self.learning_rate * dW2\n",
    "        self.output_biases -= self.learning_rate * db2"
   ]
  },
  {
   "cell_type": "code",
   "execution_count": null,
   "metadata": {},
   "outputs": [],
   "source": [
    "from collections import defaultdict\n",
    "\n",
    "sorted = defaultdict(list)\n",
    "\n",
    "for i in range(len(X)):\n",
    "    sorted[y[i]].append(X[i])\n",
    "\n",
    "def split_data(data, label):\n",
    "    np.random.shuffle(data)\n",
    "    test = data[:5]\n",
    "    test_y = np.full((5, 1), label)\n",
    "    train = data[5:]\n",
    "    train_y = np.full((len(train), 1), label)\n",
    "    return train, train_y, test, test_y\n",
    "\n",
    "train_X = []\n",
    "train_y = []\n",
    "test_X = []\n",
    "test_y = []\n",
    "\n",
    "for label, data in sorted.items():\n",
    "    train, train_y_, test, test_y_ = split_data(data, label)\n",
    "    train_X.extend(train)\n",
    "    train_y.extend(train_y_)\n",
    "    test_X.extend(test)\n",
    "    test_y.extend(test_y_)\n",
    "\n",
    "train_X = np.array(train_X)\n",
    "train_y = np.array(train_y)\n",
    "test_X = np.array(test_X)\n",
    "test_y = np.array(test_y)\n",
    "\n",
    "print(train_X.shape)\n",
    "\n",
    "ann = ANN()\n",
    "\n",
    "def train_ann(X_train, y_train, epochs=100, learning_rate=0.01):\n",
    "    # Convert y_train to one-hot encoding\n",
    "    num_classes = len(np.unique(y_train))\n",
    "    y_train_onehot = np.zeros((y_train.shape[0], num_classes))\n",
    "    y_train_onehot[np.arange(y_train.shape[0]), y_train] = 1\n",
    "\n",
    "    # Create and train the ANN\n",
    "    ann = ANN()\n",
    "    ann.train(X_train, y_train_onehot, epochs=epochs, learning_rate=learning_rate)\n",
    "    return ann\n",
    "\n",
    "# Testing function\n",
    "def test_ann(ann, X_test, y_test):\n",
    "    predictions = ann.predict(X_test)\n",
    "    accuracy = np.mean(predictions == y_test) * 100\n",
    "    print(f\"Test Accuracy: {accuracy:.2f}%\")\n",
    "    return accuracy\n",
    "\n",
    "# Example usage\n",
    "# Assuming X_train, X_test, y_train, y_test are already prepared\n",
    "ann = train_ann(train_X, train_y, epochs=100, learning_rate=0.01)\n",
    "test_accuracy = test_ann(ann, test_X, test_y)\n",
    "\n"
   ]
  }
 ],
 "metadata": {
  "kernelspec": {
   "display_name": "Python 3",
   "language": "python",
   "name": "python3"
  },
  "language_info": {
   "codemirror_mode": {
    "name": "ipython",
    "version": 3
   },
   "file_extension": ".py",
   "mimetype": "text/x-python",
   "name": "python",
   "nbconvert_exporter": "python",
   "pygments_lexer": "ipython3",
   "version": "3.10.12"
  }
 },
 "nbformat": 4,
 "nbformat_minor": 2
}
